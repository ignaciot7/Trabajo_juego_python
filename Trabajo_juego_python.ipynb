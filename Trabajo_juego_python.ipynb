{
 "cells": [
  {
   "cell_type": "code",
   "execution_count": 8,
   "metadata": {},
   "outputs": [
    {
     "name": "stdout",
     "output_type": "stream",
     "text": [
      "El valor que ingresaste es 4\n",
      "El valor incognito creado es 8\n",
      "Cuek, te equivocaste\n",
      "El valor que ingresaste es 5\n",
      "El valor incognito creado es 4\n",
      "Cuek, te equivocaste\n",
      "El valor que ingresaste es 6\n",
      "El valor incognito creado es 1\n",
      "Cuek, te equivocaste\n"
     ]
    }
   ],
   "source": [
    "#Creando un bucle donde se permiten máximo 3 intentos\n",
    "for i in range(3):\n",
    "    \n",
    "    #Recibiendo un valor ingresado\n",
    "    valor_ingresado = input(\"Ingresa un valor\")\n",
    "    print(f\"El valor que ingresaste es {valor_ingresado}\")\n",
    "\n",
    "    #Definiendo un valor incógnito\n",
    "    import random\n",
    "    valor_incognito = random.randint(1, 10)\n",
    "    print(f\"El valor incognito creado es {valor_incognito}\")\n",
    "\n",
    "    #Estableciendo las condiciones\n",
    "    if valor_ingresado!=valor_incognito:\n",
    "     print(\"Cuek, te equivocaste\")\n",
    "    if valor_incognito==valor_ingresado:\n",
    "        print(\"Le achuntaste!\")\n",
    "        break"
   ]
  }
 ],
 "metadata": {
  "kernelspec": {
   "display_name": "Python 3.10.8 64-bit",
   "language": "python",
   "name": "python3"
  },
  "language_info": {
   "codemirror_mode": {
    "name": "ipython",
    "version": 3
   },
   "file_extension": ".py",
   "mimetype": "text/x-python",
   "name": "python",
   "nbconvert_exporter": "python",
   "pygments_lexer": "ipython3",
   "version": "3.10.8"
  },
  "orig_nbformat": 4,
  "vscode": {
   "interpreter": {
    "hash": "0ea5e1da65dbe3022db5fa22b001ff8ffec5918ae468b4862f3688114d8b7f2f"
   }
  }
 },
 "nbformat": 4,
 "nbformat_minor": 2
}
